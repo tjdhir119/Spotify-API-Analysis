{
 "cells": [
  {
   "cell_type": "code",
   "execution_count": 33,
   "id": "cf74bd9f",
   "metadata": {},
   "outputs": [],
   "source": [
    "import numpy as np\n",
    "import pandas as pd\n",
    "import matplotlib.pyplot as mtp"
   ]
  },
  {
   "cell_type": "code",
   "execution_count": 34,
   "id": "5edb8e09",
   "metadata": {},
   "outputs": [
    {
     "data": {
      "text/html": [
       "<div>\n",
       "<style scoped>\n",
       "    .dataframe tbody tr th:only-of-type {\n",
       "        vertical-align: middle;\n",
       "    }\n",
       "\n",
       "    .dataframe tbody tr th {\n",
       "        vertical-align: top;\n",
       "    }\n",
       "\n",
       "    .dataframe thead th {\n",
       "        text-align: right;\n",
       "    }\n",
       "</style>\n",
       "<table border=\"1\" class=\"dataframe\">\n",
       "  <thead>\n",
       "    <tr style=\"text-align: right;\">\n",
       "      <th></th>\n",
       "      <th>Unnamed: 0</th>\n",
       "      <th>Name</th>\n",
       "      <th>Album</th>\n",
       "      <th>Artist</th>\n",
       "      <th>Release_Date</th>\n",
       "      <th>Length</th>\n",
       "      <th>Popularity</th>\n",
       "      <th>Acousticness</th>\n",
       "      <th>Danceability</th>\n",
       "      <th>Energy</th>\n",
       "      <th>Instrumentalness</th>\n",
       "      <th>Liveness</th>\n",
       "      <th>Loudness</th>\n",
       "      <th>Speechiness</th>\n",
       "      <th>Tempo</th>\n",
       "      <th>Time_Signature</th>\n",
       "    </tr>\n",
       "  </thead>\n",
       "  <tbody>\n",
       "    <tr>\n",
       "      <th>0</th>\n",
       "      <td>0</td>\n",
       "      <td>ceilings</td>\n",
       "      <td>five seconds flat</td>\n",
       "      <td>Lizzy McAlpine</td>\n",
       "      <td>2022-04-08</td>\n",
       "      <td>182887</td>\n",
       "      <td>91</td>\n",
       "      <td>0.473</td>\n",
       "      <td>0.516</td>\n",
       "      <td>0.322</td>\n",
       "      <td>0.001940</td>\n",
       "      <td>0.215</td>\n",
       "      <td>-11.762</td>\n",
       "      <td>0.0292</td>\n",
       "      <td>148.005</td>\n",
       "      <td>3</td>\n",
       "    </tr>\n",
       "    <tr>\n",
       "      <th>1</th>\n",
       "      <td>1</td>\n",
       "      <td>could you love me while i hate myself</td>\n",
       "      <td>scared of everything</td>\n",
       "      <td>Zeph</td>\n",
       "      <td>2021-10-15</td>\n",
       "      <td>60333</td>\n",
       "      <td>75</td>\n",
       "      <td>0.782</td>\n",
       "      <td>0.680</td>\n",
       "      <td>0.406</td>\n",
       "      <td>0.000190</td>\n",
       "      <td>0.110</td>\n",
       "      <td>-11.313</td>\n",
       "      <td>0.0414</td>\n",
       "      <td>119.901</td>\n",
       "      <td>4</td>\n",
       "    </tr>\n",
       "    <tr>\n",
       "      <th>2</th>\n",
       "      <td>2</td>\n",
       "      <td>I know it won't work</td>\n",
       "      <td>Good Riddance</td>\n",
       "      <td>Gracie Abrams</td>\n",
       "      <td>2023-02-24</td>\n",
       "      <td>245629</td>\n",
       "      <td>75</td>\n",
       "      <td>0.537</td>\n",
       "      <td>0.653</td>\n",
       "      <td>0.575</td>\n",
       "      <td>0.000079</td>\n",
       "      <td>0.121</td>\n",
       "      <td>-8.950</td>\n",
       "      <td>0.0594</td>\n",
       "      <td>119.888</td>\n",
       "      <td>4</td>\n",
       "    </tr>\n",
       "    <tr>\n",
       "      <th>3</th>\n",
       "      <td>3</td>\n",
       "      <td>Never Gonna Be Alone (feat. Lizzy McAlpine &amp; J...</td>\n",
       "      <td>Never Gonna Be Alone (feat. Lizzy McAlpine &amp; J...</td>\n",
       "      <td>Jacob Collier</td>\n",
       "      <td>2022-06-10</td>\n",
       "      <td>249946</td>\n",
       "      <td>61</td>\n",
       "      <td>0.592</td>\n",
       "      <td>0.576</td>\n",
       "      <td>0.423</td>\n",
       "      <td>0.682000</td>\n",
       "      <td>0.322</td>\n",
       "      <td>-9.218</td>\n",
       "      <td>0.0265</td>\n",
       "      <td>90.552</td>\n",
       "      <td>4</td>\n",
       "    </tr>\n",
       "    <tr>\n",
       "      <th>4</th>\n",
       "      <td>4</td>\n",
       "      <td>Too Well</td>\n",
       "      <td>Everything To Everyone</td>\n",
       "      <td>Reneé Rapp</td>\n",
       "      <td>2022-11-11</td>\n",
       "      <td>156631</td>\n",
       "      <td>73</td>\n",
       "      <td>0.125</td>\n",
       "      <td>0.668</td>\n",
       "      <td>0.618</td>\n",
       "      <td>0.000000</td>\n",
       "      <td>0.112</td>\n",
       "      <td>-4.639</td>\n",
       "      <td>0.0607</td>\n",
       "      <td>120.951</td>\n",
       "      <td>4</td>\n",
       "    </tr>\n",
       "  </tbody>\n",
       "</table>\n",
       "</div>"
      ],
      "text/plain": [
       "   Unnamed: 0                                               Name  \\\n",
       "0           0                                           ceilings   \n",
       "1           1              could you love me while i hate myself   \n",
       "2           2                               I know it won't work   \n",
       "3           3  Never Gonna Be Alone (feat. Lizzy McAlpine & J...   \n",
       "4           4                                           Too Well   \n",
       "\n",
       "                                               Album          Artist  \\\n",
       "0                                  five seconds flat  Lizzy McAlpine   \n",
       "1                               scared of everything            Zeph   \n",
       "2                                      Good Riddance   Gracie Abrams   \n",
       "3  Never Gonna Be Alone (feat. Lizzy McAlpine & J...   Jacob Collier   \n",
       "4                             Everything To Everyone      Reneé Rapp   \n",
       "\n",
       "  Release_Date  Length  Popularity  Acousticness  Danceability  Energy  \\\n",
       "0   2022-04-08  182887          91         0.473         0.516   0.322   \n",
       "1   2021-10-15   60333          75         0.782         0.680   0.406   \n",
       "2   2023-02-24  245629          75         0.537         0.653   0.575   \n",
       "3   2022-06-10  249946          61         0.592         0.576   0.423   \n",
       "4   2022-11-11  156631          73         0.125         0.668   0.618   \n",
       "\n",
       "   Instrumentalness  Liveness  Loudness  Speechiness    Tempo  Time_Signature  \n",
       "0          0.001940     0.215   -11.762       0.0292  148.005               3  \n",
       "1          0.000190     0.110   -11.313       0.0414  119.901               4  \n",
       "2          0.000079     0.121    -8.950       0.0594  119.888               4  \n",
       "3          0.682000     0.322    -9.218       0.0265   90.552               4  \n",
       "4          0.000000     0.112    -4.639       0.0607  120.951               4  "
      ]
     },
     "execution_count": 34,
     "metadata": {},
     "output_type": "execute_result"
    }
   ],
   "source": [
    "df = pd.read_csv(\"tej_playlist.csv\")\n",
    "df.head()"
   ]
  },
  {
   "cell_type": "code",
   "execution_count": 35,
   "id": "53d899a5",
   "metadata": {},
   "outputs": [
    {
     "data": {
      "text/plain": [
       "(50, 16)"
      ]
     },
     "execution_count": 35,
     "metadata": {},
     "output_type": "execute_result"
    }
   ],
   "source": [
    "df.shape"
   ]
  },
  {
   "cell_type": "code",
   "execution_count": 36,
   "id": "005138ae",
   "metadata": {},
   "outputs": [
    {
     "name": "stdout",
     "output_type": "stream",
     "text": [
      "<class 'pandas.core.frame.DataFrame'>\n",
      "RangeIndex: 50 entries, 0 to 49\n",
      "Data columns (total 16 columns):\n",
      " #   Column            Non-Null Count  Dtype  \n",
      "---  ------            --------------  -----  \n",
      " 0   Unnamed: 0        50 non-null     int64  \n",
      " 1   Name              50 non-null     object \n",
      " 2   Album             50 non-null     object \n",
      " 3   Artist            50 non-null     object \n",
      " 4   Release_Date      50 non-null     object \n",
      " 5   Length            50 non-null     int64  \n",
      " 6   Popularity        50 non-null     int64  \n",
      " 7   Acousticness      50 non-null     float64\n",
      " 8   Danceability      50 non-null     float64\n",
      " 9   Energy            50 non-null     float64\n",
      " 10  Instrumentalness  50 non-null     float64\n",
      " 11  Liveness          50 non-null     float64\n",
      " 12  Loudness          50 non-null     float64\n",
      " 13  Speechiness       50 non-null     float64\n",
      " 14  Tempo             50 non-null     float64\n",
      " 15  Time_Signature    50 non-null     int64  \n",
      "dtypes: float64(8), int64(4), object(4)\n",
      "memory usage: 6.4+ KB\n"
     ]
    }
   ],
   "source": [
    "df.info()"
   ]
  },
  {
   "cell_type": "code",
   "execution_count": 37,
   "id": "1f05e9ce",
   "metadata": {},
   "outputs": [],
   "source": [
    "df = df.drop(['Unnamed: 0', 'Name', 'Album', 'Artist', 'Release_Date', 'Length'], axis=1)"
   ]
  },
  {
   "cell_type": "code",
   "execution_count": 38,
   "id": "ca583f66",
   "metadata": {},
   "outputs": [
    {
     "data": {
      "text/html": [
       "<div>\n",
       "<style scoped>\n",
       "    .dataframe tbody tr th:only-of-type {\n",
       "        vertical-align: middle;\n",
       "    }\n",
       "\n",
       "    .dataframe tbody tr th {\n",
       "        vertical-align: top;\n",
       "    }\n",
       "\n",
       "    .dataframe thead th {\n",
       "        text-align: right;\n",
       "    }\n",
       "</style>\n",
       "<table border=\"1\" class=\"dataframe\">\n",
       "  <thead>\n",
       "    <tr style=\"text-align: right;\">\n",
       "      <th></th>\n",
       "      <th>Popularity</th>\n",
       "      <th>Acousticness</th>\n",
       "      <th>Danceability</th>\n",
       "      <th>Energy</th>\n",
       "      <th>Instrumentalness</th>\n",
       "      <th>Liveness</th>\n",
       "      <th>Loudness</th>\n",
       "      <th>Speechiness</th>\n",
       "      <th>Tempo</th>\n",
       "      <th>Time_Signature</th>\n",
       "    </tr>\n",
       "  </thead>\n",
       "  <tbody>\n",
       "    <tr>\n",
       "      <th>0</th>\n",
       "      <td>91</td>\n",
       "      <td>0.473</td>\n",
       "      <td>0.516</td>\n",
       "      <td>0.322</td>\n",
       "      <td>0.001940</td>\n",
       "      <td>0.215</td>\n",
       "      <td>-11.762</td>\n",
       "      <td>0.0292</td>\n",
       "      <td>148.005</td>\n",
       "      <td>3</td>\n",
       "    </tr>\n",
       "    <tr>\n",
       "      <th>1</th>\n",
       "      <td>75</td>\n",
       "      <td>0.782</td>\n",
       "      <td>0.680</td>\n",
       "      <td>0.406</td>\n",
       "      <td>0.000190</td>\n",
       "      <td>0.110</td>\n",
       "      <td>-11.313</td>\n",
       "      <td>0.0414</td>\n",
       "      <td>119.901</td>\n",
       "      <td>4</td>\n",
       "    </tr>\n",
       "    <tr>\n",
       "      <th>2</th>\n",
       "      <td>75</td>\n",
       "      <td>0.537</td>\n",
       "      <td>0.653</td>\n",
       "      <td>0.575</td>\n",
       "      <td>0.000079</td>\n",
       "      <td>0.121</td>\n",
       "      <td>-8.950</td>\n",
       "      <td>0.0594</td>\n",
       "      <td>119.888</td>\n",
       "      <td>4</td>\n",
       "    </tr>\n",
       "    <tr>\n",
       "      <th>3</th>\n",
       "      <td>61</td>\n",
       "      <td>0.592</td>\n",
       "      <td>0.576</td>\n",
       "      <td>0.423</td>\n",
       "      <td>0.682000</td>\n",
       "      <td>0.322</td>\n",
       "      <td>-9.218</td>\n",
       "      <td>0.0265</td>\n",
       "      <td>90.552</td>\n",
       "      <td>4</td>\n",
       "    </tr>\n",
       "    <tr>\n",
       "      <th>4</th>\n",
       "      <td>73</td>\n",
       "      <td>0.125</td>\n",
       "      <td>0.668</td>\n",
       "      <td>0.618</td>\n",
       "      <td>0.000000</td>\n",
       "      <td>0.112</td>\n",
       "      <td>-4.639</td>\n",
       "      <td>0.0607</td>\n",
       "      <td>120.951</td>\n",
       "      <td>4</td>\n",
       "    </tr>\n",
       "  </tbody>\n",
       "</table>\n",
       "</div>"
      ],
      "text/plain": [
       "   Popularity  Acousticness  Danceability  Energy  Instrumentalness  Liveness  \\\n",
       "0          91         0.473         0.516   0.322          0.001940     0.215   \n",
       "1          75         0.782         0.680   0.406          0.000190     0.110   \n",
       "2          75         0.537         0.653   0.575          0.000079     0.121   \n",
       "3          61         0.592         0.576   0.423          0.682000     0.322   \n",
       "4          73         0.125         0.668   0.618          0.000000     0.112   \n",
       "\n",
       "   Loudness  Speechiness    Tempo  Time_Signature  \n",
       "0   -11.762       0.0292  148.005               3  \n",
       "1   -11.313       0.0414  119.901               4  \n",
       "2    -8.950       0.0594  119.888               4  \n",
       "3    -9.218       0.0265   90.552               4  \n",
       "4    -4.639       0.0607  120.951               4  "
      ]
     },
     "execution_count": 38,
     "metadata": {},
     "output_type": "execute_result"
    }
   ],
   "source": [
    "df.head()"
   ]
  },
  {
   "cell_type": "code",
   "execution_count": 39,
   "id": "237849fd",
   "metadata": {},
   "outputs": [],
   "source": [
    "x=df.iloc[:,1:].values\n",
    "y=df.iloc[:, 0].values"
   ]
  },
  {
   "cell_type": "code",
   "execution_count": 52,
   "id": "30b01083",
   "metadata": {},
   "outputs": [],
   "source": [
    "from sklearn.preprocessing import StandardScaler \n",
    "X_std=StandardScaler().fit_transform(x)"
   ]
  },
  {
   "cell_type": "code",
   "execution_count": 53,
   "id": "0f9ae17b",
   "metadata": {},
   "outputs": [],
   "source": [
    "from sklearn.model_selection import train_test_split \n",
    "X_train,X_test,y_train,y_test=train_test_split(X_std,y,test_size=0.25,random_state=40)"
   ]
  },
  {
   "cell_type": "code",
   "execution_count": 54,
   "id": "e67a2845",
   "metadata": {},
   "outputs": [],
   "source": [
    "from sklearn.linear_model import LogisticRegression\n",
    "from sklearn.metrics import confusion_matrix\n",
    "lr=LogisticRegression(C=1.0, class_weight=None, dual=False, fit_intercept=True, \n",
    "                      intercept_scaling=1, max_iter=100, multi_class='ovr', n_jobs=1, penalty='l2', \n",
    "                      random_state=None, solver='liblinear', tol=0.0001, verbose=0, warm_start=False)"
   ]
  },
  {
   "cell_type": "code",
   "execution_count": 55,
   "id": "c4bbdfdd",
   "metadata": {},
   "outputs": [],
   "source": [
    "model1=lr.fit(X_train,y_train)"
   ]
  },
  {
   "cell_type": "code",
   "execution_count": 56,
   "id": "6d3130b3",
   "metadata": {},
   "outputs": [],
   "source": [
    "prediction1=model1.predict(X_test)"
   ]
  },
  {
   "cell_type": "code",
   "execution_count": 58,
   "id": "a907e8d9",
   "metadata": {},
   "outputs": [
    {
     "data": {
      "text/plain": [
       "<AxesSubplot: >"
      ]
     },
     "execution_count": 58,
     "metadata": {},
     "output_type": "execute_result"
    },
    {
     "data": {
      "image/png": "[encoded data removed]",
      "text/plain": [
       "<Figure size 640x480 with 2 Axes>"
      ]
     },
     "metadata": {},
     "output_type": "display_data"
    }
   ],
   "source": [
    "import seaborn as sns\n",
    "cm=confusion_matrix(y_test,prediction1) \n",
    "sns.heatmap(cm,annot=True,cmap='winter',linewidths=0.3,linecolor='black',annot_kws={\"size\":20})"
   ]
  },
  {
   "cell_type": "code",
   "execution_count": 61,
   "id": "5895d950",
   "metadata": {},
   "outputs": [
    {
     "data": {
      "text/plain": [
       "0.0"
      ]
     },
     "execution_count": 61,
     "metadata": {},
     "output_type": "execute_result"
    }
   ],
   "source": [
    "from sklearn.metrics import accuracy_score\n",
    "cr=accuracy_score(y_test,prediction1) \n",
    "cr"
   ]
  },
  {
   "cell_type": "code",
   "execution_count": null,
   "id": "2a7fb032",
   "metadata": {},
   "outputs": [],
   "source": []
  }
 ],
 "metadata": {
  "kernelspec": {
   "display_name": "Python 3 (ipykernel)",
   "language": "python",
   "name": "python3"
  },
  "language_info": {
   "codemirror_mode": {
    "name": "ipython",
    "version": 3
   },
   "file_extension": ".py",
   "mimetype": "text/x-python",
   "name": "python",
   "nbconvert_exporter": "python",
   "pygments_lexer": "ipython3",
   "version": "3.10.9"
  }
 },
 "nbformat": 4,
 "nbformat_minor": 5
}
