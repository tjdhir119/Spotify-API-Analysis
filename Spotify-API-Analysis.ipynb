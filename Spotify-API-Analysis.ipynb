{
 "cells": [
  {
   "cell_type": "code",
   "execution_count": 1,
   "id": "ebe6c5f7",
   "metadata": {},
   "outputs": [],
   "source": [
    "import spotipy \n",
    "import spotipy.oauth2 as oauth2\n",
    "from spotipy.oauth2 import SpotifyOAuth\n",
    "from spotipy.oauth2 import SpotifyClientCredentials\n",
    "import pandas as pd\n",
    "import time"
   ]
  },
  {
   "cell_type": "code",
   "execution_count": 5,
   "id": "255ab749",
   "metadata": {},
   "outputs": [
    {
     "data": {
      "text/plain": [
       "{'external_urls': {'spotify': 'https://open.spotify.com/artist/26VFTg2z8YR0cCuwLzESi2'},\n",
       " 'followers': {'href': None, 'total': 19634613},\n",
       " 'genres': ['dance pop', 'electropop', 'etherpop', 'indie poptimism', 'pop'],\n",
       " 'href': 'https://api.spotify.com/v1/artists/26VFTg2z8YR0cCuwLzESi2',\n",
       " 'id': '26VFTg2z8YR0cCuwLzESi2',\n",
       " 'images': [{'height': 640,\n",
       "   'url': 'https://i.scdn.co/image/ab6761610000e5ebd707e1c5177614c4ec95a06c',\n",
       "   'width': 640},\n",
       "  {'height': 320,\n",
       "   'url': 'https://i.scdn.co/image/ab67616100005174d707e1c5177614c4ec95a06c',\n",
       "   'width': 320},\n",
       "  {'height': 160,\n",
       "   'url': 'https://i.scdn.co/image/ab6761610000f178d707e1c5177614c4ec95a06c',\n",
       "   'width': 160}],\n",
       " 'name': 'Halsey',\n",
       " 'popularity': 85,\n",
       " 'type': 'artist',\n",
       " 'uri': 'spotify:artist:26VFTg2z8YR0cCuwLzESi2'}"
      ]
     },
     "execution_count": 5,
     "metadata": {},
     "output_type": "execute_result"
    }
   ],
   "source": [
    "auth_manager = SpotifyClientCredentials(client_id=cid, client_secret=cis)\n",
    "sp = spotipy.Spotify(auth_manager = auth_manager)\n",
    "artist_info = \"https://open.spotify.com/artist/26VFTg2z8YR0cCuwLzESi2?si=-qA7QmBZSgCcyCblFxgZXw\"\n",
    "artist = sp.artist(artist_info)\n",
    "artist"
   ]
  },
  {
   "cell_type": "code",
   "execution_count": 6,
   "id": "be7e7db5",
   "metadata": {},
   "outputs": [
    {
     "data": {
      "text/plain": [
       "[{'external_urls': {'spotify': 'https://open.spotify.com/artist/1GmsPCcpKgF9OhlNXjOsbS'},\n",
       "  'href': 'https://api.spotify.com/v1/artists/1GmsPCcpKgF9OhlNXjOsbS',\n",
       "  'id': '1GmsPCcpKgF9OhlNXjOsbS',\n",
       "  'name': 'Lizzy McAlpine',\n",
       "  'type': 'artist',\n",
       "  'uri': 'spotify:artist:1GmsPCcpKgF9OhlNXjOsbS'}]"
      ]
     },
     "execution_count": 6,
     "metadata": {},
     "output_type": "execute_result"
    }
   ],
   "source": [
    "name = [\"Lizzy Mcalpine\"]\n",
    "resu = sp.search(name)\n",
    "resu['tracks']['items'][1]['artists']"
   ]
  },
  {
   "cell_type": "code",
   "execution_count": 7,
   "id": "c6ab5fb7",
   "metadata": {},
   "outputs": [
    {
     "name": "stdout",
     "output_type": "stream",
     "text": [
      "If I Can’t Have Love, I Want Power (Deluxe)\n",
      "hopeless fountain kingdom (Live From Webster Hall)\n",
      "If I Can’t Have Love, I Want Power (Extended)\n",
      "If I Can’t Have Love, I Want Power (Extended)\n",
      "Love And Power EP: Love\n",
      "If I Can’t Have Love, I Want Power\n",
      "If I Can’t Have Love, I Want Power\n",
      "BADLANDS (Live From Webster Hall)\n",
      "Manic\n",
      "Manic\n",
      "hopeless fountain kingdom\n",
      "hopeless fountain kingdom (Deluxe)\n",
      "hopeless fountain kingdom\n",
      "hopeless fountain kingdom\n",
      "hopeless fountain kingdom (Deluxe)\n",
      "BADLANDS (Deluxe)\n",
      "BADLANDS (Deluxe)\n",
      "BADLANDS\n",
      "BADLANDS\n"
     ]
    }
   ],
   "source": [
    "halsey_albums = \"https://open.spotify.com/artist/26VFTg2z8YR0cCuwLzESi2?si=-qA7QmBZSgCcyCblFxgZXw\"\n",
    "sp = spotipy.Spotify(auth_manager=auth_manager)\n",
    "\n",
    "results = sp.artist_albums(halsey_albums, album_type = 'album')\n",
    "\n",
    "albums = results['items']\n",
    "while results['next']:\n",
    "     results = spotify.next(results)\n",
    "     albuns.extend(results['items'])\n",
    "\n",
    "for album in albums:\n",
    "    print(album['name'])"
   ]
  },
  {
   "cell_type": "code",
   "execution_count": 8,
   "id": "aa7ab4ab",
   "metadata": {},
   "outputs": [
    {
     "name": "stdout",
     "output_type": "stream",
     "text": [
      "Song : Closer\n",
      "Audio : https://p.scdn.co/mp3-preview/cfd565c4d3c621771e6d25d99749b9fc200e396c?cid=9b8b6305ce03423599fc0a14667ae0b5\n",
      "\n",
      "Song : Without Me\n",
      "Audio : None\n",
      "\n",
      "Song : Boy With Luv (feat. Halsey)\n",
      "Audio : https://p.scdn.co/mp3-preview/c5e4b03bcf18d2b137370569baeb74a9dfce7e63?cid=9b8b6305ce03423599fc0a14667ae0b5\n",
      "\n",
      "Song : Eastside (with Halsey & Khalid)\n",
      "Audio : None\n",
      "\n",
      "Song : Die 4 Me\n",
      "Audio : None\n",
      "\n",
      "Song : Him & I (with Halsey)\n",
      "Audio : https://p.scdn.co/mp3-preview/f3b074fff3b73dfec619cf9a3ff72be8d6de2cb6?cid=9b8b6305ce03423599fc0a14667ae0b5\n",
      "\n",
      "Song : Walls Could Talk\n",
      "Audio : None\n",
      "\n",
      "Song : Be Kind (with Halsey)\n",
      "Audio : None\n",
      "\n",
      "Song : Stay With Me (with Justin Timberlake, Halsey & Pharrell)\n",
      "Audio : https://p.scdn.co/mp3-preview/3c81ec3a27ad06b514bde46c5a9da8610e83a663?cid=9b8b6305ce03423599fc0a14667ae0b5\n",
      "\n",
      "Song : Bad At Love\n",
      "Audio : None\n",
      "\n"
     ]
    }
   ],
   "source": [
    "halsey_top_tracks = \"https://open.spotify.com/artist/26VFTg2z8YR0cCuwLzESi2?si=-qA7QmBZSgCcyCblFxgZXw\"\n",
    "\n",
    "sp = spotipy.Spotify(auth_manager=auth_manager)\n",
    "results = sp.artist_top_tracks(halsey_top_tracks, country= 'NG')\n",
    "\n",
    "for track in results['tracks'][:10]:\n",
    "    print('Song :', track['name'])\n",
    "    print('Audio :', track['preview_url'])\n",
    "    print()"
   ]
  },
  {
   "cell_type": "code",
   "execution_count": null,
   "id": "c59c024c",
   "metadata": {},
   "outputs": [],
   "source": []
  }
 ],
 "metadata": {
  "kernelspec": {
   "display_name": "Python 3 (ipykernel)",
   "language": "python",
   "name": "python3"
  },
  "language_info": {
   "codemirror_mode": {
    "name": "ipython",
    "version": 3
   },
   "file_extension": ".py",
   "mimetype": "text/x-python",
   "name": "python",
   "nbconvert_exporter": "python",
   "pygments_lexer": "ipython3",
   "version": "3.10.9"
  }
 },
 "nbformat": 4,
 "nbformat_minor": 5
}
