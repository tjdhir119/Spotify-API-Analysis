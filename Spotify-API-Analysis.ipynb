{
 "cells": [
  {
   "cell_type": "code",
   "execution_count": 2,
   "id": "ebe6c5f7",
   "metadata": {},
   "outputs": [],
   "source": [
    "import spotipy \n",
    "import spotipy.oauth2 as oauth2\n",
    "from spotipy.oauth2 import SpotifyOAuth\n",
    "from spotipy.oauth2 import SpotifyClientCredentials\n",
    "import pandas as pd\n",
    "import time"
   ]
  },
  {
   "cell_type": "code",
   "execution_count": 3,
   "id": "255ab749",
   "metadata": {},
   "outputs": [
    {
     "data": {
      "text/plain": [
       "{'external_urls': {'spotify': 'https://open.spotify.com/artist/26VFTg2z8YR0cCuwLzESi2'},\n",
       " 'followers': {'href': None, 'total': 19832532},\n",
       " 'genres': ['dance pop', 'electropop', 'etherpop', 'indie poptimism', 'pop'],\n",
       " 'href': 'https://api.spotify.com/v1/artists/26VFTg2z8YR0cCuwLzESi2',\n",
       " 'id': '26VFTg2z8YR0cCuwLzESi2',\n",
       " 'images': [{'height': 640,\n",
       "   'url': 'https://i.scdn.co/image/ab6761610000e5ebd707e1c5177614c4ec95a06c',\n",
       "   'width': 640},\n",
       "  {'height': 320,\n",
       "   'url': 'https://i.scdn.co/image/ab67616100005174d707e1c5177614c4ec95a06c',\n",
       "   'width': 320},\n",
       "  {'height': 160,\n",
       "   'url': 'https://i.scdn.co/image/ab6761610000f178d707e1c5177614c4ec95a06c',\n",
       "   'width': 160}],\n",
       " 'name': 'Halsey',\n",
       " 'popularity': 84,\n",
       " 'type': 'artist',\n",
       " 'uri': 'spotify:artist:26VFTg2z8YR0cCuwLzESi2'}"
      ]
     },
     "execution_count": 3,
     "metadata": {},
     "output_type": "execute_result"
    }
   ],
   "source": [
    "%store -r cid\n",
    "%store -r cis\n",
    "auth_manager = SpotifyClientCredentials(client_id=cid, client_secret=cis)\n",
    "sp = spotipy.Spotify(auth_manager = auth_manager)\n",
    "artist_info = \"https://open.spotify.com/artist/26VFTg2z8YR0cCuwLzESi2?si=-qA7QmBZSgCcyCblFxgZXw\"\n",
    "artist = sp.artist(artist_info)\n",
    "artist"
   ]
  },
  {
   "cell_type": "code",
   "execution_count": 4,
   "id": "be7e7db5",
   "metadata": {},
   "outputs": [
    {
     "data": {
      "text/plain": [
       "[{'external_urls': {'spotify': 'https://open.spotify.com/artist/1GmsPCcpKgF9OhlNXjOsbS'},\n",
       "  'href': 'https://api.spotify.com/v1/artists/1GmsPCcpKgF9OhlNXjOsbS',\n",
       "  'id': '1GmsPCcpKgF9OhlNXjOsbS',\n",
       "  'name': 'Lizzy McAlpine',\n",
       "  'type': 'artist',\n",
       "  'uri': 'spotify:artist:1GmsPCcpKgF9OhlNXjOsbS'}]"
      ]
     },
     "execution_count": 4,
     "metadata": {},
     "output_type": "execute_result"
    }
   ],
   "source": [
    "name = [\"Lizzy Mcalpine\"]\n",
    "resu = sp.search(name)\n",
    "resu['tracks']['items'][1]['artists']"
   ]
  },
  {
   "cell_type": "code",
   "execution_count": 5,
   "id": "c6ab5fb7",
   "metadata": {},
   "outputs": [
    {
     "name": "stdout",
     "output_type": "stream",
     "text": [
      "If I Can’t Have Love, I Want Power (Deluxe)\n",
      "hopeless fountain kingdom (Live From Webster Hall)\n",
      "If I Can’t Have Love, I Want Power (Extended)\n",
      "If I Can’t Have Love, I Want Power (Extended)\n",
      "Love And Power EP: Love\n",
      "If I Can’t Have Love, I Want Power\n",
      "If I Can’t Have Love, I Want Power\n",
      "BADLANDS (Live From Webster Hall)\n",
      "Manic\n",
      "Manic\n",
      "hopeless fountain kingdom (Deluxe)\n",
      "hopeless fountain kingdom\n",
      "hopeless fountain kingdom\n",
      "hopeless fountain kingdom\n",
      "hopeless fountain kingdom (Deluxe)\n",
      "BADLANDS (Deluxe)\n",
      "BADLANDS (Deluxe)\n",
      "BADLANDS\n",
      "BADLANDS\n"
     ]
    }
   ],
   "source": [
    "halsey_albums = \"https://open.spotify.com/artist/26VFTg2z8YR0cCuwLzESi2?si=-qA7QmBZSgCcyCblFxgZXw\"\n",
    "sp = spotipy.Spotify(auth_manager=auth_manager)\n",
    "\n",
    "results = sp.artist_albums(halsey_albums, album_type = 'album')\n",
    "\n",
    "albums = results['items']\n",
    "while results['next']:\n",
    "     results = spotify.next(results)\n",
    "     albuns.extend(results['items'])\n",
    "\n",
    "for album in albums:\n",
    "    print(album['name'])"
   ]
  },
  {
   "cell_type": "code",
   "execution_count": 6,
   "id": "aa7ab4ab",
   "metadata": {},
   "outputs": [
    {
     "name": "stdout",
     "output_type": "stream",
     "text": [
      "Song : Closer\n",
      "Audio : https://p.scdn.co/mp3-preview/cfd565c4d3c621771e6d25d99749b9fc200e396c?cid=9b8b6305ce03423599fc0a14667ae0b5\n",
      "\n",
      "Song : Without Me\n",
      "Audio : None\n",
      "\n",
      "Song : Eastside (with Halsey & Khalid)\n",
      "Audio : None\n",
      "\n",
      "Song : Boy With Luv (feat. Halsey)\n",
      "Audio : https://p.scdn.co/mp3-preview/c5e4b03bcf18d2b137370569baeb74a9dfce7e63?cid=9b8b6305ce03423599fc0a14667ae0b5\n",
      "\n",
      "Song : Die 4 Me\n",
      "Audio : None\n",
      "\n",
      "Song : Him & I (with Halsey)\n",
      "Audio : https://p.scdn.co/mp3-preview/f3b074fff3b73dfec619cf9a3ff72be8d6de2cb6?cid=9b8b6305ce03423599fc0a14667ae0b5\n",
      "\n",
      "Song : Walls Could Talk\n",
      "Audio : None\n",
      "\n",
      "Song : Be Kind (with Halsey)\n",
      "Audio : None\n",
      "\n",
      "Song : Bad At Love\n",
      "Audio : None\n",
      "\n",
      "Song : Stay With Me (with Justin Timberlake, Halsey & Pharrell)\n",
      "Audio : https://p.scdn.co/mp3-preview/3c81ec3a27ad06b514bde46c5a9da8610e83a663?cid=9b8b6305ce03423599fc0a14667ae0b5\n",
      "\n"
     ]
    }
   ],
   "source": [
    "halsey_top_tracks = \"https://open.spotify.com/artist/26VFTg2z8YR0cCuwLzESi2?si=-qA7QmBZSgCcyCblFxgZXw\"\n",
    "\n",
    "sp = spotipy.Spotify(auth_manager=auth_manager)\n",
    "results = sp.artist_top_tracks(halsey_top_tracks, country= 'NG')\n",
    "\n",
    "for track in results['tracks'][:10]:\n",
    "    print('Song :', track['name'])\n",
    "    print('Audio :', track['preview_url'])\n",
    "    print()"
   ]
  },
  {
   "cell_type": "code",
   "execution_count": 10,
   "id": "c59c024c",
   "metadata": {},
   "outputs": [],
   "source": [
    "track_info = sp.track(\"1LCGfWwdgI1o7En7ZrdIOm\")\n",
    "track_features = sp.audio_features (\"1LCGfWwdgI1o7En7ZrdIOm\")\n",
    "\n",
    "name = track_info['name']\n",
    "album = track_info['album']['name']\n",
    "artist = track_info['album']['artists'][0]['name']\n",
    "release_date = track_info['album']['release_date']\n",
    "length = track_info['duration_ms']\n",
    "popularity = track_info['popularity']\n",
    "\n",
    "acousticness = track_features[0]['acousticness']\n",
    "danceability = track_features[0]['danceability']\n",
    "energy = track_features[0]['energy']\n",
    "instrumentalness = track_features [0]['instrumentalness']\n",
    "liveness = track_features[0]['liveness']\n",
    "loudness = track_features[0]['loudness']\n",
    "speechiness = track_features[0]['speechiness']\n",
    "tempo = track_features [0]['tempo']"
   ]
  },
  {
   "cell_type": "code",
   "execution_count": 12,
   "id": "fe56afd5",
   "metadata": {},
   "outputs": [
    {
     "data": {
      "text/plain": [
       "['Finally // beautiful stranger',\n",
       " 'Manic',\n",
       " 'Halsey',\n",
       " '2020-01-17',\n",
       " 221095,\n",
       " 45,\n",
       " 0.051,\n",
       " 0.625,\n",
       " 0.55,\n",
       " 0,\n",
       " 0.118,\n",
       " -5.105,\n",
       " 0.029,\n",
       " 133.973,\n",
       " 4]"
      ]
     },
     "execution_count": 12,
     "metadata": {},
     "output_type": "execute_result"
    }
   ],
   "source": [
    "time_signature = track_features[0]['time_signature']\n",
    "track = [name, album, artist, release_date, length, popularity, acousticness, danceability, \n",
    "         energy, instrumentalness, liveness, loudness, speechiness, tempo, time_signature]\n",
    "track"
   ]
  },
  {
   "cell_type": "code",
   "execution_count": 13,
   "id": "8ef04b04",
   "metadata": {},
   "outputs": [
    {
     "data": {
      "text/html": [
       "<div>\n",
       "<style scoped>\n",
       "    .dataframe tbody tr th:only-of-type {\n",
       "        vertical-align: middle;\n",
       "    }\n",
       "\n",
       "    .dataframe tbody tr th {\n",
       "        vertical-align: top;\n",
       "    }\n",
       "\n",
       "    .dataframe thead th {\n",
       "        text-align: right;\n",
       "    }\n",
       "</style>\n",
       "<table border=\"1\" class=\"dataframe\">\n",
       "  <thead>\n",
       "    <tr style=\"text-align: right;\">\n",
       "      <th></th>\n",
       "      <th>Name</th>\n",
       "      <th>Album</th>\n",
       "      <th>Artist</th>\n",
       "      <th>Release_Date</th>\n",
       "      <th>Length</th>\n",
       "      <th>Popularity</th>\n",
       "      <th>Acousticness</th>\n",
       "      <th>Danceability</th>\n",
       "      <th>energy</th>\n",
       "      <th>instrumentalness</th>\n",
       "      <th>Liveness</th>\n",
       "      <th>Loudness</th>\n",
       "      <th>Speechiness</th>\n",
       "      <th>tempo</th>\n",
       "      <th>time_signature</th>\n",
       "    </tr>\n",
       "  </thead>\n",
       "  <tbody>\n",
       "    <tr>\n",
       "      <th>0</th>\n",
       "      <td>Finally // beautiful stranger</td>\n",
       "      <td>Manic</td>\n",
       "      <td>Halsey</td>\n",
       "      <td>2020-01-17</td>\n",
       "      <td>221095</td>\n",
       "      <td>45</td>\n",
       "      <td>0.051</td>\n",
       "      <td>0.625</td>\n",
       "      <td>0.55</td>\n",
       "      <td>0</td>\n",
       "      <td>0.118</td>\n",
       "      <td>-5.105</td>\n",
       "      <td>0.029</td>\n",
       "      <td>133.973</td>\n",
       "      <td>4</td>\n",
       "    </tr>\n",
       "  </tbody>\n",
       "</table>\n",
       "</div>"
      ],
      "text/plain": [
       "                            Name  Album  Artist Release_Date  Length  \\\n",
       "0  Finally // beautiful stranger  Manic  Halsey   2020-01-17  221095   \n",
       "\n",
       "   Popularity  Acousticness  Danceability  energy  instrumentalness  Liveness  \\\n",
       "0          45         0.051         0.625    0.55                 0     0.118   \n",
       "\n",
       "   Loudness  Speechiness    tempo  time_signature  \n",
       "0    -5.105        0.029  133.973               4  "
      ]
     },
     "execution_count": 13,
     "metadata": {},
     "output_type": "execute_result"
    }
   ],
   "source": [
    "dy = pd.DataFrame (track).T.values.tolist()\n",
    "dy_final = pd.DataFrame(dy, columns = ['Name', 'Album', 'Artist', 'Release_Date',\n",
    "                                       'Length', 'Popularity', 'Acousticness' , 'Danceability',\n",
    "                                       'energy' , 'instrumentalness', 'Liveness', 'Loudness',\n",
    "                                       'Speechiness', 'tempo', 'time_signature'])\n",
    "dy_final"
   ]
  },
  {
   "cell_type": "code",
   "execution_count": 14,
   "id": "a37d4e8c",
   "metadata": {},
   "outputs": [],
   "source": [
    "#playlist analysis"
   ]
  },
  {
   "cell_type": "code",
   "execution_count": 15,
   "id": "aca62954",
   "metadata": {},
   "outputs": [
    {
     "name": "stdout",
     "output_type": "stream",
     "text": [
      "50\n",
      "['2L9N0zZnd37dwF0clgxMGI', '7uo2L5FAja3pWIBa3HJVeC', '5FGDtm3MXJe8LikBkOJnOQ', '5m9OR6G4lNt9Da6dy1xpHx', '6Szgu8v7CAapag3XuuJX0b', '0zLnAV1lYEhVnKk3ITmCym', '4QEsxFZRA3RnjQAPYS3UXa', '4J7JZr3LfTC96SLjbpIyDe', '4nyF5lmSziBAt7ESAUjpbx', '36WabQN781ejYiSWKQAzDD', '26MJjeJ0NSOQDKeZzrEFMl', '5kUqU9uLc98ndpJiqieN8K', '7i13OWa1EztIgBQjJfm8yM', '03h0ioes0mfaZIeAO1fV5o', '0Owo0HqvqfdYjenmN3F6JU', '22bV9M6ZhoSMQk6Kumpe92', '3YyASDEwePUZaPcgCjGOoV', '2VFetGqLYq0Pc8ZtRYCaeL', '1CDTADeg2GTtviwTcioBJi', '5PJH1U5Iie893v48Fl9yaC', '4WjxtORnwPavm5PDsAWJEc', '35IcAVSMsU9qzHfpPbvC8A', '1SveOKrBFiyneSj3Pd5Sup', '6bsjNDCZQ1TwHI37AtAQ7K', '4v7shHT3eXpvBoG5k2OMIM', '7blNhlXimy77PduXyWtmcI', '07akFpJE3QL6ZeyBjnMjpz', '5SJXktlo399QlOYBu4rB3m', '4PCsSHOvnIXh2TBdEzb0pr', '0UL0U44WDAMeMad1bmLMjD', '7epHo3miOIJ3fYEPAdCAf9', '3LmXHKTO7nUylZYzmReK0K', '46BHP7nFOrGQPLW8mCxzZr', '0PLhwCmQ7cC3ThRGPn3HxF', '7I8qPfmUT4kofEFX0FlkLS', '1p17XN8yqoY5LHEG0Inqam', '0FK7VTnXJSWqayUOPgVJ4V', '4zViEBkXQ68ObajzhGSqfF', '5TwOrHpV01ymb1vMFVRZJl', '0FysXYeuMmdbod61UBUK4m', '3s08bSH1iMzwpbt3EgF97W', '6zZJiaqVdLAFjZbeKt1eZO', '5ao5BeXUi0FRKoP58rsUXB', '4LOg3dKvCAJiF9NYC7YqzG', '5GpEHUNI0T7L7H3DnAaBXh', '2i650Qa2Mw4brCjxulbacC', '70Ope1rcXhTsr2lxGPCkzz', '1KhSRq5A95Pj3yseW6uK7P', '7MjCGNDgGpolRNDM3KQ3du', '4pJ8QXcEUZO2EQlfeqBKzN']\n"
     ]
    }
   ],
   "source": [
    "def getTrackIDs(user, playlist_id):\n",
    "    track_ids = []\n",
    "    album = sp.user_playlist(user, playlist_id)\n",
    "    for item in album['tracks']['items']:\n",
    "        track = item['track']\n",
    "        track_ids.append(track['id'])\n",
    "        \n",
    "    return track_ids\n",
    "\n",
    "track_ids = getTrackIDs('spotify', \"37i9dQZF1EIWxl7OVJOaqC\")\n",
    "print(len(track_ids))\n",
    "print(track_ids)"
   ]
  },
  {
   "cell_type": "code",
   "execution_count": 31,
   "id": "3adf7fb8",
   "metadata": {},
   "outputs": [],
   "source": [
    "def getPlaylistFeatures(id):\n",
    "    track_info = sp.track (id)\n",
    "    features_info = sp.audio_features(id)\n",
    "#Track Info\n",
    "    name = track_info['name']\n",
    "    album = track_info['album']['name']\n",
    "    artist = track_info['album']['artists'][0]['name']\n",
    "    release_date = track_info['album']['release_date']\n",
    "    length = track_info['duration_ms']\n",
    "    popularity = track_info['popularity']\n",
    "\n",
    "#Track Features\n",
    "    acousticness = features_info[0]['acousticness']\n",
    "    danceability = features_info[0]['danceability']\n",
    "    energy = features_info[0]['energy']\n",
    "    instrumentalness = features_info[0]['instrumentalness']\n",
    "    liveness = features_info[0]['liveness']\n",
    "    loudness = features_info[0]['loudness']\n",
    "    speechiness = features_info[0]['speechiness']\n",
    "    tempo = features_info[0]['tempo']\n",
    "    time_signature = features_info[0]['time_signature']\n",
    "    \n",
    "    track_data = [name, album, artist, release_date, length, popularity, acousticness, \n",
    "              danceability, energy, instrumentalness, liveness, loudness, speechiness, tempo, \n",
    "              time_signature]\n",
    "    return track_data"
   ]
  },
  {
   "cell_type": "code",
   "execution_count": null,
   "id": "168617a3",
   "metadata": {},
   "outputs": [],
   "source": [
    "track_list = []\n",
    "for i in range(len(track_ids)):\n",
    "    time.sleep(.3)\n",
    "    track_data = getPlaylistFeatures(track_ids[i])\n",
    "    track_list.append(track_data)\n",
    "    \n",
    "tej_playlist = pd.DataFrame(track_list, columns = ['Name','Album','Artist','Release_Date',\n",
    "                                                   'Length','Popularity','Acousticness','Danceability',\n",
    "                                                   'Energy','Instrumentalness','Liveness','Loudness',\n",
    "                                                   'Speechiness','Tempo','Time_Signature'])\n",
    "tej_playlist.to_csv(\"tej_playlist.csv\")\n",
    "tej_playlist.head()"
   ]
  },
  {
   "cell_type": "code",
   "execution_count": null,
   "id": "ddde0fde",
   "metadata": {},
   "outputs": [],
   "source": []
  }
 ],
 "metadata": {
  "kernelspec": {
   "display_name": "Python 3 (ipykernel)",
   "language": "python",
   "name": "python3"
  },
  "language_info": {
   "codemirror_mode": {
    "name": "ipython",
    "version": 3
   },
   "file_extension": ".py",
   "mimetype": "text/x-python",
   "name": "python",
   "nbconvert_exporter": "python",
   "pygments_lexer": "ipython3",
   "version": "3.10.9"
  }
 },
 "nbformat": 4,
 "nbformat_minor": 5
}
